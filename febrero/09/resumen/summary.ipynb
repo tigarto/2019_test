{
 "cells": [
  {
   "cell_type": "markdown",
   "metadata": {},
   "source": [
    "# Analisis de resultados"
   ]
  },
  {
   "cell_type": "markdown",
   "metadata": {},
   "source": [
    "## Caracteristicas del experimento 1"
   ]
  },
  {
   "cell_type": "markdown",
   "metadata": {},
   "source": [
    "A continuación se resumen las caracteristicas manejadas en el experimento:\n",
    "1. Tasas de transferencia manejadas: Normal, 2kpps, 4kpps, 6kpps, 8kpps, 10kpps. \n",
    "2. Dos replicas para cada caso."
   ]
  },
  {
   "cell_type": "code",
   "execution_count": 11,
   "metadata": {},
   "outputs": [],
   "source": [
    "import pandas as pd\n",
    "import matplotlib.pyplot as plt\n",
    "import numpy as np\n",
    "from scipy import stats\n",
    "import os"
   ]
  },
  {
   "cell_type": "markdown",
   "metadata": {},
   "source": [
    "Cargando los dataframe a partir de cvs"
   ]
  },
  {
   "cell_type": "code",
   "execution_count": 35,
   "metadata": {},
   "outputs": [
    {
     "name": "stdout",
     "output_type": "stream",
     "text": [
      "['ping_2kpps.csv', 'ping_4kpps.csv', 'iperf_2kpps.csv', 'resumen.csv', 'ping_6kpps.csv', 'iperf_10kpps.csv', 'iperf_8kpps.csv', 'ping_10kpps.csv', 'iperf_4kpps.csv', 'iperf_normal.csv', 'iperf_6kpps.csv', 'ping_normal.csv', 'ping_8kpps.csv']\n"
     ]
    }
   ],
   "source": [
    "iperfDF = {}\n",
    "pingDF = {}\n",
    "summaryDF = {}\n",
    "baseDir = './experimento1_cvs_resumen_10_2/'\n",
    "files = os.listdir(baseDir)\n",
    "print(files)"
   ]
  },
  {
   "cell_type": "code",
   "execution_count": 36,
   "metadata": {},
   "outputs": [
    {
     "name": "stdout",
     "output_type": "stream",
     "text": [
      "dict_keys(['8kpps.csv', '4kpps.csv', '2kpps.csv', '10kpps.csv', '6kpps.csv', 'normal.csv'])\n",
      "dict_keys(['6kpps.csv', '4kpps.csv', '2kpps.csv', '10kpps.csv', '8kpps.csv', 'normal.csv'])\n",
      "dict_keys(['summary'])\n"
     ]
    }
   ],
   "source": [
    "for e in files:\n",
    "    if 'csv' in e:\n",
    "        k = e.split(baseDir)[0]\n",
    "        if 'ping' in e:\n",
    "            pingDF[k.split('_')[1]] = pd.read_csv(baseDir + e,sep=';', index_col=0)\n",
    "            pingDF[k.split('_')[1]].columns.name = 'metricas'\n",
    "            pingDF[k.split('_')[1]].index.name = 'replica'\n",
    "        elif 'iperf' in e:\n",
    "            iperfDF[k.split('_')[1]] = pd.read_csv(baseDir + e,sep=';', index_col=0)\n",
    "            iperfDF[k.split('_')[1]].columns.name = 'metricas'\n",
    "            iperfDF[k.split('_')[1]].index.name = 'replica'\n",
    "        else:\n",
    "            summaryDF['summary'] = pd.read_csv(baseDir + e,sep=';', index_col=0)\n",
    "            summaryDF['summary'].columns.name = 'metricas'\n",
    "            summaryDF['summary'].index.name = 'replica'\n",
    "            \n",
    "\n",
    "# Verificando claves\n",
    "print(iperfDF.keys())\n",
    "print(pingDF.keys())\n",
    "print(summaryDF.keys())"
   ]
  },
  {
   "cell_type": "markdown",
   "metadata": {},
   "source": [
    "### Informacion iperf ###"
   ]
  },
  {
   "cell_type": "code",
   "execution_count": 37,
   "metadata": {},
   "outputs": [
    {
     "name": "stdout",
     "output_type": "stream",
     "text": [
      "Medias iperf: 8kpps.csv\n",
      "metricas  interval  transfer    BW\n",
      "replica                           \n",
      "0         0.0-10.0     118.0  98.6\n",
      "1         0.0-10.3     121.0  98.6\n",
      "\n",
      "Medias iperf: 4kpps.csv\n",
      "metricas  interval  transfer     BW\n",
      "replica                            \n",
      "0         0.0-10.2     120.0   98.4\n",
      "1         0.0-10.3     122.0  100.0\n",
      "\n",
      "Medias iperf: 2kpps.csv\n",
      "metricas  interval  transfer    BW\n",
      "replica                           \n",
      "0         0.0-10.2     119.0  98.2\n",
      "1         0.0-10.1     118.0  98.2\n",
      "\n",
      "Medias iperf: 10kpps.csv\n",
      "metricas  interval  transfer    BW\n",
      "replica                           \n",
      "0         0.0-10.2     117.0  96.8\n",
      "1         0.0-10.2     118.0  97.0\n",
      "\n",
      "Medias iperf: 6kpps.csv\n",
      "metricas  interval  transfer     BW\n",
      "replica                            \n",
      "0         0.0-10.1     121.0  100.0\n",
      "1         0.0-10.2     121.0  100.0\n",
      "\n",
      "Medias iperf: normal.csv\n",
      "metricas  interval  transfer    BW\n",
      "replica                           \n",
      "0         0.0-10.0     115.0  96.2\n",
      "1         0.0-10.0     115.0  96.4\n",
      "\n"
     ]
    }
   ],
   "source": [
    "for k in iperfDF:\n",
    "    print('Medias iperf: ' + k)\n",
    "    print(iperfDF[k])\n",
    "    print()\n"
   ]
  },
  {
   "cell_type": "markdown",
   "metadata": {},
   "source": [
    "### Informacion ping ###"
   ]
  },
  {
   "cell_type": "code",
   "execution_count": 38,
   "metadata": {},
   "outputs": [
    {
     "name": "stdout",
     "output_type": "stream",
     "text": [
      "Medias ping: 6kpps.csv\n",
      "metricas  p_tx  p_rx  p_loss    time  rtt_min  rtt_avg  rtt_max  rtt_mdev\n",
      "replica                                                                  \n",
      "0         10.0  10.0     0.0  9182.0    0.025    0.562     5.10     1.513\n",
      "1         10.0  10.0     0.0  9197.0    0.033    0.537     4.91     1.457\n",
      "\n",
      "Medias ping: 4kpps.csv\n",
      "metricas  p_tx  p_rx  p_loss    time  rtt_min  rtt_avg  rtt_max  rtt_mdev\n",
      "replica                                                                  \n",
      "0         10.0  10.0     0.0  9198.0    0.029    0.685    6.378     1.898\n",
      "1         10.0  10.0     0.0  9200.0    0.031    1.059   10.105     3.015\n",
      "\n",
      "Medias ping: 2kpps.csv\n",
      "metricas  p_tx  p_rx  p_loss    time  rtt_min  rtt_avg  rtt_max  rtt_mdev\n",
      "replica                                                                  \n",
      "0         10.0  10.0     0.0  9180.0    0.030    0.818    7.727     2.303\n",
      "1         10.0  10.0     0.0  9190.0    0.038    1.139   10.800     3.220\n",
      "\n",
      "Medias ping: 10kpps.csv\n",
      "metricas  p_tx  p_rx  p_loss    time  rtt_min  rtt_avg  rtt_max  rtt_mdev\n",
      "replica                                                                  \n",
      "0         10.0  10.0     0.0  9203.0    0.027    0.694    6.493     1.933\n",
      "1         10.0  10.0     0.0  9198.0    0.046    0.478    4.223     1.248\n",
      "\n",
      "Medias ping: 8kpps.csv\n",
      "metricas  p_tx  p_rx  p_loss    time  rtt_min  rtt_avg  rtt_max  rtt_mdev\n",
      "replica                                                                  \n",
      "0         10.0  10.0     0.0  9189.0    0.033    1.187   11.352     3.388\n",
      "1         10.0  10.0     0.0  9201.0    0.023    0.785    7.264     2.160\n",
      "\n",
      "Medias ping: normal.csv\n",
      "metricas  p_tx  p_rx  p_loss    time  rtt_min  rtt_avg  rtt_max  rtt_mdev\n",
      "replica                                                                  \n",
      "0         10.0  10.0     0.0  9194.0    0.040    0.521    4.618     1.366\n",
      "1         10.0  10.0     0.0  9172.0    0.053    0.727    6.525     1.933\n",
      "\n"
     ]
    }
   ],
   "source": [
    "for k in pingDF:\n",
    "    print('Medias ping: ' + k)\n",
    "    print(pingDF[k])\n",
    "    print()"
   ]
  },
  {
   "cell_type": "markdown",
   "metadata": {},
   "source": [
    "### Información resumen ###"
   ]
  },
  {
   "cell_type": "code",
   "execution_count": 39,
   "metadata": {},
   "outputs": [
    {
     "name": "stdout",
     "output_type": "stream",
     "text": [
      "Resumen de las metricas\n",
      "metricas     BW     RTT\n",
      "replica                \n",
      "10kpps     96.9  0.5860\n",
      "6kpps     100.0  0.5495\n",
      "normal     96.3  0.6240\n",
      "8kpps      98.6  0.9860\n",
      "2kpps      98.2  0.9785\n",
      "4kpps      99.2  0.8720\n"
     ]
    }
   ],
   "source": [
    "\"\"\"\n",
    "axes = datosGraficas.plot.bar(rot=0, subplots=True)\n",
    "    axes[1].legend(loc=2)  # doctest: +SKIP\n",
    "    plt.show()\n",
    "    \n",
    "\"\"\"  \n",
    "print(\"Resumen de las metricas\")\n",
    "summaryDF['summary']\n",
    "print(summaryDF['summary'])"
   ]
  },
  {
   "cell_type": "code",
   "execution_count": 40,
   "metadata": {},
   "outputs": [
    {
     "data": {
      "text/plain": [
       "<matplotlib.legend.Legend at 0x7f51034678d0>"
      ]
     },
     "execution_count": 40,
     "metadata": {},
     "output_type": "execute_result"
    },
    {
     "data": {
      "image/png": "[encoded data removed]",
      "text/plain": [
       "<Figure size 432x288 with 2 Axes>"
      ]
     },
     "metadata": {},
     "output_type": "display_data"
    }
   ],
   "source": [
    "axes = summaryDF['summary'].plot.bar(rot=0, subplots=True)\n",
    "axes[1].legend(loc=2)  # doctest: +SKIP"
   ]
  },
  {
   "cell_type": "markdown",
   "metadata": {},
   "source": [
    "## Caracteristicas del experimento 2"
   ]
  },
  {
   "cell_type": "markdown",
   "metadata": {},
   "source": [
    "A continuación se resumen las caracteristicas manejadas en el experimento:\n",
    "1. Tasas de transferencia manejadas: Normal, 2kpps, 4kpps, 6kpps, 8kpps, 10kpps. \n",
    "2. Una replica por caso.\n",
    "3. Tiempo total de medición por prueba: 50seg"
   ]
  },
  {
   "cell_type": "code",
   "execution_count": 43,
   "metadata": {},
   "outputs": [],
   "source": [
    "iperfDF = {}\n",
    "pingDF = {}\n",
    "summaryDF = {}\n",
    "baseDir = \"./experimento2_cvs_resumen_50_1/\"\n",
    "files = os.listdir(baseDir)\n",
    "\n",
    "for e in files:\n",
    "    if 'csv' in e:\n",
    "        k = e.split('.')[0]\n",
    "        if 'ping' in e:\n",
    "            pingDF[k.split('_')[1]] = pd.read_csv(baseDir + e,sep=';', index_col=0)\n",
    "            pingDF[k.split('_')[1]].columns.name = 'metricas'\n",
    "            pingDF[k.split('_')[1]].index.name = 'replica'\n",
    "        elif 'iperf' in e:\n",
    "            iperfDF[k.split('_')[1]] = pd.read_csv(baseDir + e,sep=';', index_col=0)\n",
    "            iperfDF[k.split('_')[1]].columns.name = 'metricas'\n",
    "            iperfDF[k.split('_')[1]].index.name = 'replica'\n",
    "        else:\n",
    "            summaryDF['summary'] = pd.read_csv(baseDir + e ,sep=';', index_col=0)\n",
    "            summaryDF['summary'].columns.name = 'metricas'\n",
    "            summaryDF['summary'].index.name = 'replica'\n"
   ]
  },
  {
   "cell_type": "markdown",
   "metadata": {},
   "source": [
    "### Informacion iperf ###"
   ]
  },
  {
   "cell_type": "code",
   "execution_count": 44,
   "metadata": {},
   "outputs": [
    {
     "name": "stdout",
     "output_type": "stream",
     "text": [
      "Medias iperf: 2kpps\n",
      "metricas  interval  transfer    BW\n",
      "replica                           \n",
      "0         0.0-50.3     579.0  96.6\n",
      "\n",
      "Medias iperf: 8kpps\n",
      "metricas  interval  transfer    BW\n",
      "replica                           \n",
      "0         0.0-50.0     562.0  94.3\n",
      "\n",
      "Medias iperf: normal\n",
      "metricas  interval  transfer    BW\n",
      "replica                           \n",
      "0         0.0-50.0     571.0  95.8\n",
      "\n",
      "Medias iperf: 4kpps\n",
      "metricas  interval  transfer    BW\n",
      "replica                           \n",
      "0         0.0-50.5     578.0  96.1\n",
      "\n",
      "Medias iperf: 6kpps\n",
      "metricas  interval  transfer    BW\n",
      "replica                           \n",
      "0         0.0-50.2     567.0  94.9\n",
      "\n",
      "Medias iperf: 10kpps\n",
      "metricas  interval  transfer    BW\n",
      "replica                           \n",
      "0         0.0-50.0     557.0  93.4\n",
      "\n"
     ]
    }
   ],
   "source": [
    "for k in iperfDF:\n",
    "    print('Medias iperf: ' + k)\n",
    "    print(iperfDF[k])\n",
    "    print()\n"
   ]
  },
  {
   "cell_type": "markdown",
   "metadata": {},
   "source": [
    "### Informacion ping ###"
   ]
  },
  {
   "cell_type": "code",
   "execution_count": 45,
   "metadata": {},
   "outputs": [
    {
     "name": "stdout",
     "output_type": "stream",
     "text": [
      "Medias ping: 2kpps\n",
      "metricas  p_tx  p_rx  p_loss     time  rtt_min  rtt_avg  rtt_max  rtt_mdev\n",
      "replica                                                                   \n",
      "0         50.0  50.0     0.0  50137.0    0.024    0.168    6.448     0.897\n",
      "\n",
      "Medias ping: 8kpps\n",
      "metricas  p_tx  p_rx  p_loss     time  rtt_min  rtt_avg  rtt_max  rtt_mdev\n",
      "replica                                                                   \n",
      "0         50.0  50.0     0.0  50153.0     0.02    0.134    4.981     0.692\n",
      "\n",
      "Medias ping: normal\n",
      "metricas  p_tx  p_rx  p_loss    time  rtt_min  rtt_avg  rtt_max  rtt_mdev\n",
      "replica                                                                  \n",
      "0         10.0  10.0     0.0  9184.0    0.034    0.904    8.509     2.535\n",
      "\n",
      "Medias ping: 4kpps\n",
      "metricas  p_tx  p_rx  p_loss     time  rtt_min  rtt_avg  rtt_max  rtt_mdev\n",
      "replica                                                                   \n",
      "0         50.0  50.0     0.0  50145.0    0.023    0.126    4.636     0.644\n",
      "\n",
      "Medias ping: 6kpps\n",
      "metricas  p_tx  p_rx  p_loss     time  rtt_min  rtt_avg  rtt_max  rtt_mdev\n",
      "replica                                                                   \n",
      "0         50.0  50.0     0.0  50156.0    0.017    0.123    4.385     0.609\n",
      "\n",
      "Medias ping: 10kpps\n",
      "metricas  p_tx  p_rx  p_loss     time  rtt_min  rtt_avg  rtt_max  rtt_mdev\n",
      "replica                                                                   \n",
      "0         50.0  50.0     0.0  50157.0    0.023    0.124    4.552     0.632\n",
      "\n"
     ]
    }
   ],
   "source": [
    "for k in pingDF:\n",
    "    print('Medias ping: ' + k)\n",
    "    print(pingDF[k])\n",
    "    print()"
   ]
  },
  {
   "cell_type": "markdown",
   "metadata": {},
   "source": [
    "### Información resumen ###"
   ]
  },
  {
   "cell_type": "code",
   "execution_count": 46,
   "metadata": {},
   "outputs": [
    {
     "name": "stdout",
     "output_type": "stream",
     "text": [
      "Resumen de las metricas\n",
      "metricas    BW    RTT\n",
      "replica              \n",
      "10kpps    93.4  0.124\n",
      "6kpps     94.9  0.123\n",
      "normal    95.8  0.904\n",
      "8kpps     94.3  0.134\n",
      "2kpps     96.6  0.168\n",
      "4kpps     96.1  0.126\n"
     ]
    }
   ],
   "source": [
    "\"\"\"\n",
    "axes = datosGraficas.plot.bar(rot=0, subplots=True)\n",
    "    axes[1].legend(loc=2)  # doctest: +SKIP\n",
    "    plt.show()\n",
    "    \n",
    "\"\"\"  \n",
    "print(\"Resumen de las metricas\")\n",
    "summaryDF['summary']\n",
    "print(summaryDF['summary'])"
   ]
  },
  {
   "cell_type": "code",
   "execution_count": 49,
   "metadata": {},
   "outputs": [
    {
     "data": {
      "text/plain": [
       "<matplotlib.legend.Legend at 0x7f51033e0550>"
      ]
     },
     "execution_count": 49,
     "metadata": {},
     "output_type": "execute_result"
    },
    {
     "data": {
      "image/png": "[encoded data removed]",
      "text/plain": [
       "<Figure size 432x288 with 2 Axes>"
      ]
     },
     "metadata": {},
     "output_type": "display_data"
    }
   ],
   "source": [
    "axes = summaryDF['summary'].plot.bar(rot=0, subplots=True)\n",
    "axes[1].legend(loc=2)  # doctest: +SKIP"
   ]
  },
  {
   "cell_type": "markdown",
   "metadata": {},
   "source": [
    "## BUGS "
   ]
  },
  {
   "cell_type": "markdown",
   "metadata": {},
   "source": [
    "1. Cuadrar las rutas asociadas a los archivos cvs resumen.\n",
    "2. Los resultados no cuadran.\n",
    "3. Mirar se el argumento asociado al hping3 si esta funcionando bien y esta presentando resultados de variabilidad en cuanto al numero de paquetes enviados. Para el caso, los resultados que se han visto no parecen como buenos por eso no se ve una buena variabilidad en cuanto al ancho de banda como en el caso en el cual se dieran las cosas si se mandaran los comandos por terminal."
   ]
  },
  {
   "cell_type": "code",
   "execution_count": null,
   "metadata": {},
   "outputs": [],
   "source": []
  }
 ],
 "metadata": {
  "kernelspec": {
   "display_name": "Python 2",
   "language": "python",
   "name": "python2"
  },
  "language_info": {
   "codemirror_mode": {
    "name": "ipython",
    "version": 3
   },
   "file_extension": ".py",
   "mimetype": "text/x-python",
   "name": "python",
   "nbconvert_exporter": "python",
   "pygments_lexer": "ipython3",
   "version": "3.4.6"
  }
 },
 "nbformat": 4,
 "nbformat_minor": 2
}
