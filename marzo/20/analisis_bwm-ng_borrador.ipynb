{
 "cells": [
  {
   "cell_type": "markdown",
   "metadata": {},
   "source": [
    "# Analisis archivo de salida bw-..."
   ]
  },
  {
   "cell_type": "markdown",
   "metadata": {},
   "source": [
    "sss"
   ]
  },
  {
   "cell_type": "code",
   "execution_count": 1,
   "metadata": {},
   "outputs": [],
   "source": [
    "import pandas as pd\n",
    "import matplotlib.pyplot as plt\n",
    "import numpy as np\n",
    "from scipy import stats\n",
    "import os"
   ]
  },
  {
   "cell_type": "code",
   "execution_count": 20,
   "metadata": {},
   "outputs": [
    {
     "name": "stdout",
     "output_type": "stream",
     "text": [
      "<class 'pandas.core.frame.DataFrame'>\n",
      "Int64Index: 25 entries, 1553295090 to 1553295094\n",
      "Data columns (total 15 columns):\n",
      "iface_name         25 non-null object\n",
      "bytes_out/s        25 non-null float64\n",
      "bytes_in/s         25 non-null float64\n",
      "bytes_total/s      25 non-null float64\n",
      "bytes_in           25 non-null int64\n",
      "bytes_out          25 non-null int64\n",
      "packets_out/s      25 non-null float64\n",
      "packets_in/s       25 non-null float64\n",
      "packets_total/s    25 non-null float64\n",
      "packets_in         25 non-null int64\n",
      "packets_out        25 non-null int64\n",
      "errors_out/s       25 non-null float64\n",
      "errors_in/s        25 non-null float64\n",
      "errors_in          25 non-null int64\n",
      "errors_out\\n       25 non-null int64\n",
      "dtypes: float64(8), int64(6), object(1)\n",
      "memory usage: 3.1+ KB\n"
     ]
    }
   ],
   "source": [
    "switch_df = pd.read_csv('monitoreo2.csv',sep=';', index_col=0)\n",
    "switch_df.info()"
   ]
  },
  {
   "cell_type": "code",
   "execution_count": 30,
   "metadata": {},
   "outputs": [
    {
     "name": "stdout",
     "output_type": "stream",
     "text": [
      "lo\n",
      "  iface_name  bytes_out/s  bytes_in/s  bytes_total/s  bytes_in  bytes_out  \\\n",
      "0         lo          0.0         0.0            0.0         0          0   \n",
      "2         lo        646.0       646.0         1292.0       646        646   \n",
      "2         lo       4726.0      4726.0         9452.0      4726       4726   \n",
      "3         lo        341.0       341.0          682.0       341        341   \n",
      "4         lo        277.0       277.0          554.0       277        277   \n",
      "\n",
      "   packets_out/s  packets_in/s  packets_total/s  packets_in  packets_out  \\\n",
      "0            0.0           0.0              0.0           0            0   \n",
      "2            9.0           9.0             18.0           9            9   \n",
      "2           49.0          49.0             98.0          49           49   \n",
      "3            4.0           4.0              8.0           4            4   \n",
      "4            3.0           3.0              6.0           3            3   \n",
      "\n",
      "   errors_out/s  errors_in/s  errors_in  errors_out\\n  \n",
      "0           0.0          0.0          0             0  \n",
      "2           0.0          0.0          0             0  \n",
      "2           0.0          0.0          0             0  \n",
      "3           0.0          0.0          0             0  \n",
      "4           0.0          0.0          0             0  \n",
      "s1-eth1\n",
      "  iface_name  bytes_out/s  bytes_in/s  bytes_total/s  bytes_in  bytes_out  \\\n",
      "0    s1-eth1          0.0         0.0            0.0         0          0   \n",
      "2    s1-eth1        176.0       176.0          352.0       176        176   \n",
      "2    s1-eth1       1702.0       250.0         1952.0       250       1702   \n",
      "3    s1-eth1        494.0         0.0          494.0         0        494   \n",
      "4    s1-eth1        201.0         0.0          201.0         0        201   \n",
      "\n",
      "   packets_out/s  packets_in/s  packets_total/s  packets_in  packets_out  \\\n",
      "0            0.0           0.0              0.0           0            0   \n",
      "2            2.0           2.0              4.0           2            2   \n",
      "2           14.0           3.0             17.0           3           14   \n",
      "3            3.0           0.0              3.0           0            3   \n",
      "4            1.0           0.0              1.0           0            1   \n",
      "\n",
      "   errors_out/s  errors_in/s  errors_in  errors_out\\n  \n",
      "0           0.0          0.0          0             0  \n",
      "2           0.0          0.0          0             0  \n",
      "2           0.0          0.0          0             0  \n",
      "3           0.0          0.0          0             0  \n",
      "4           0.0          0.0          0             0  \n",
      "s1-eth2\n",
      "  iface_name  bytes_out/s  bytes_in/s  bytes_total/s  bytes_in  bytes_out  \\\n",
      "0    s1-eth2          0.0         0.0            0.0         0          0   \n",
      "2    s1-eth2        176.0       176.0          352.0       176        176   \n",
      "2    s1-eth2       1006.0       250.0         1256.0       250       1006   \n",
      "3    s1-eth2       1030.0         0.0         1030.0         0       1030   \n",
      "4    s1-eth2        201.0         0.0          201.0         0        201   \n",
      "\n",
      "   packets_out/s  packets_in/s  packets_total/s  packets_in  packets_out  \\\n",
      "0            0.0           0.0              0.0           0            0   \n",
      "2            2.0           2.0              4.0           2            2   \n",
      "2            9.0           3.0             12.0           3            9   \n",
      "3            6.0           0.0              6.0           0            6   \n",
      "4            1.0           0.0              1.0           0            1   \n",
      "\n",
      "   errors_out/s  errors_in/s  errors_in  errors_out\\n  \n",
      "0           0.0          0.0          0             0  \n",
      "2           0.0          0.0          0             0  \n",
      "2           0.0          0.0          0             0  \n",
      "3           0.0          0.0          0             0  \n",
      "4           0.0          0.0          0             0  \n",
      "s1-eth3\n",
      "  iface_name  bytes_out/s  bytes_in/s  bytes_total/s  bytes_in  bytes_out  \\\n",
      "0    s1-eth3          0.0         0.0            0.0         0          0   \n",
      "2    s1-eth3        176.0       176.0          352.0       176        176   \n",
      "2    s1-eth3        500.0       250.0          750.0       250        500   \n",
      "3    s1-eth3       1333.0         0.0         1333.0         0       1333   \n",
      "4    s1-eth3        404.0         0.0          404.0         0        404   \n",
      "\n",
      "   packets_out/s  packets_in/s  packets_total/s  packets_in  packets_out  \\\n",
      "0            0.0           0.0              0.0           0            0   \n",
      "2            2.0           2.0              4.0           2            2   \n",
      "2            6.0           3.0              9.0           3            6   \n",
      "3            8.0           0.0              8.0           0            8   \n",
      "4            2.0           0.0              2.0           0            2   \n",
      "\n",
      "   errors_out/s  errors_in/s  errors_in  errors_out\\n  \n",
      "0           0.0          0.0          0             0  \n",
      "2           0.0          0.0          0             0  \n",
      "2           0.0          0.0          0             0  \n",
      "3           0.0          0.0          0             0  \n",
      "4           0.0          0.0          0             0  \n",
      "total\n",
      "  iface_name  bytes_out/s  bytes_in/s  bytes_total/s  bytes_in  bytes_out  \\\n",
      "0      total          0.0         0.0            0.0         0          0   \n",
      "2      total       1174.0      1174.0         2348.0      1174       1174   \n",
      "2      total       7934.0      5476.0        13410.0      5476       7934   \n",
      "3      total       3198.0       341.0         3539.0       341       3198   \n",
      "4      total       1083.0       277.0         1360.0       277       1083   \n",
      "\n",
      "   packets_out/s  packets_in/s  packets_total/s  packets_in  packets_out  \\\n",
      "0            0.0           0.0              0.0           0            0   \n",
      "2           15.0          15.0             30.0          15           15   \n",
      "2           78.0          58.0            136.0          58           78   \n",
      "3           21.0           4.0             25.0           4           21   \n",
      "4            7.0           3.0             10.0           3            7   \n",
      "\n",
      "   errors_out/s  errors_in/s  errors_in  errors_out\\n  \n",
      "0           0.0          0.0          0             0  \n",
      "2           0.0          0.0          0             0  \n",
      "2           0.0          0.0          0             0  \n",
      "3           0.0          0.0          0             0  \n",
      "4           0.0          0.0          0             0  \n"
     ]
    }
   ],
   "source": [
    "#print(switch_df)\n",
    "switch_df_as_list = switch_df.index.tolist()\n",
    "v_ini= switch_df_as_list[0]\n",
    "switch_df_as_list = list(map(lambda x: x - v_ini, switch_df_as_list))\n",
    "# print(switch_df_as_list)\n",
    "switch_df.index = switch_df_as_list \n",
    "#print(switch_df)\n",
    "#print(switch_df['iface_name'])\n",
    "grouped = switch_df.groupby('iface_name')\n",
    "#print(grouped.groups)\n",
    "for name, group in grouped:\n",
    "    print(name)\n",
    "    print(group)"
   ]
  },
  {
   "cell_type": "code",
   "execution_count": 46,
   "metadata": {},
   "outputs": [
    {
     "name": "stdout",
     "output_type": "stream",
     "text": [
      "0     0.0\n",
      "2     9.0\n",
      "2    49.0\n",
      "3     4.0\n",
      "4     3.0\n",
      "Name: packets_out/s, dtype: float64\n"
     ]
    }
   ],
   "source": [
    "info_s1_eth1 = grouped.get_group('s1-eth1')\n",
    "info_s1_eth2 = grouped.get_group('s1-eth2')\n",
    "info_s1_eth3 = grouped.get_group('s1-eth3')\n",
    "info_lo = grouped.get_group('lo')\n",
    "print(info_lo['packets_out/s'])"
   ]
  },
  {
   "cell_type": "code",
   "execution_count": 49,
   "metadata": {},
   "outputs": [
    {
     "data": {
      "image/png": "[encoded data removed]",
      "text/plain": [
       "<Figure size 432x288 with 1 Axes>"
      ]
     },
     "metadata": {},
     "output_type": "display_data"
    }
   ],
   "source": [
    "fig, ax = plt.subplots()\n",
    "ax.plot(info_lo.index, info_lo['packets_out/s'])\n",
    "ax.plot(info_s1_eth1.index, info_s1_eth1['packets_out/s'])\n",
    "ax.plot(info_s1_eth2.index, info_s1_eth2['packets_out/s'])\n",
    "ax.plot(info_s1_eth3.index, info_s1_eth3['packets_out/s'])\n",
    "ax.set(xlabel='time (s)', ylabel='packets_out/s',\n",
    "       title='Metricas s1')\n",
    "ax.grid()"
   ]
  },
  {
   "cell_type": "code",
   "execution_count": null,
   "metadata": {},
   "outputs": [],
   "source": []
  }
 ],
 "metadata": {
  "kernelspec": {
   "display_name": "Python 2",
   "language": "python",
   "name": "python2"
  },
  "language_info": {
   "codemirror_mode": {
    "name": "ipython",
    "version": 3
   },
   "file_extension": ".py",
   "mimetype": "text/x-python",
   "name": "python",
   "nbconvert_exporter": "python",
   "pygments_lexer": "ipython3",
   "version": "3.4.6"
  }
 },
 "nbformat": 4,
 "nbformat_minor": 2
}
